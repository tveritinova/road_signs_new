{
 "cells": [
  {
   "cell_type": "code",
   "execution_count": 1,
   "metadata": {},
   "outputs": [],
   "source": [
    "from PIL import Image\n",
    "import os\n",
    "import numpy as np\n",
    "import csv"
   ]
  },
  {
   "cell_type": "code",
   "execution_count": 2,
   "metadata": {},
   "outputs": [],
   "source": [
    "from russian_signs.get_data import get_data as get_data_russian\n",
    "from swedish_signs.get_data import get_data as get_data_swedish\n",
    "\n",
    "data = get_data_russian()\n",
    "input_shape = data['input_shape']\n",
    "LABELS = data['LABELS']\n",
    "images = data['images']"
   ]
  },
  {
   "cell_type": "markdown",
   "metadata": {},
   "source": [
    "# model"
   ]
  },
  {
   "cell_type": "code",
   "execution_count": 3,
   "metadata": {},
   "outputs": [
    {
     "name": "stderr",
     "output_type": "stream",
     "text": [
      "Using TensorFlow backend.\n"
     ]
    }
   ],
   "source": [
    "from keras.models import Sequential\n",
    "from keras.layers import Dense, Conv2D, MaxPooling2D, Dropout, Flatten\n",
    " \n",
    "def get_model():\n",
    "    model = Sequential()\n",
    "    model.add(Conv2D(32, (3, 3), padding='same', activation='relu', input_shape=input_shape))\n",
    "    model.add(Conv2D(32, (3, 3), activation='relu'))\n",
    "    model.add(MaxPooling2D(pool_size=(2, 2)))\n",
    "    model.add(Dropout(0.25))\n",
    "\n",
    "    model.add(Conv2D(64, (3, 3), padding='same', activation='relu'))\n",
    "    model.add(Conv2D(64, (3, 3), activation='relu'))\n",
    "    model.add(MaxPooling2D(pool_size=(2, 2)))\n",
    "    model.add(Dropout(0.25))\n",
    "\n",
    "    model.add(Conv2D(64, (3, 3), padding='same', activation='relu'))\n",
    "    model.add(Conv2D(64, (3, 3), activation='relu'))\n",
    "    model.add(MaxPooling2D(pool_size=(2, 2)))\n",
    "    model.add(Dropout(0.25))\n",
    "\n",
    "    model.add(Flatten())\n",
    "    model.add(Dense(512, activation='relu'))\n",
    "    model.add(Dropout(0.5))\n",
    "    model.add(Dense(len(LABELS), activation='softmax'))\n",
    "    return model"
   ]
  },
  {
   "cell_type": "code",
   "execution_count": 34,
   "metadata": {},
   "outputs": [
    {
     "name": "stdout",
     "output_type": "stream",
     "text": [
      "0\n",
      "1000\n",
      "2000\n",
      "3000\n",
      "4000\n",
      "5000\n",
      "6000\n",
      "7000\n",
      "8000\n",
      "9000\n"
     ]
    }
   ],
   "source": [
    "from keras.preprocessing.image import img_to_array\n",
    "import matplotlib.pyplot as plt\n",
    "%matplotlib inline\n",
    "\n",
    "data = []\n",
    "labels = []\n",
    "\n",
    "image_width = 1280.0\n",
    "image_height = 720.0\n",
    "\n",
    "to_train = np.random.choice(images, 10000)\n",
    "\n",
    "for i, image in enumerate(to_train):\n",
    "    if i % 1000 == 0:\n",
    "        print(i)\n",
    "    img = Image.open(image['filename'])\n",
    "    for sign in image['signs']:\n",
    "        im = img.crop((sign['xmin'] * image_width,\n",
    "                       sign['ymin'] * image_height,\n",
    "                       sign['xmax'] * image_width,\n",
    "                       sign['ymax'] * image_height))\n",
    "        im = im.resize((input_shape[0], input_shape[1]))\n",
    "#         plt.imshow(im)\n",
    "#         plt.show()\n",
    "        im = img_to_array(im)\n",
    "        data.append(im)\n",
    "        label = np.zeros(len(LABELS))\n",
    "        label[LABELS.index(sign['name'])] = 1.0\n",
    "        labels.append(label)\n",
    "\n",
    "# scale the raw pixel intensities to the range [0, 1]\n",
    "data = np.array(data, dtype=\"float\") / 255.0\n",
    "labels = np.array(labels)"
   ]
  },
  {
   "cell_type": "code",
   "execution_count": 35,
   "metadata": {},
   "outputs": [],
   "source": [
    "from sklearn.model_selection import train_test_split\n",
    "\n",
    "(trainX, testX, trainY, testY) = train_test_split(data, labels, test_size=0.25)"
   ]
  },
  {
   "cell_type": "code",
   "execution_count": 36,
   "metadata": {},
   "outputs": [
    {
     "name": "stdout",
     "output_type": "stream",
     "text": [
      "Epoch 1/100\n",
      "61/61 [==============================] - 3s 44ms/step - loss: 3.9131 - acc: 0.2187 - val_loss: 3.3984 - val_acc: 0.2932\n",
      "Epoch 2/100\n",
      "61/61 [==============================] - 2s 33ms/step - loss: 3.1597 - acc: 0.3449 - val_loss: 2.7959 - val_acc: 0.3943\n",
      "Epoch 3/100\n",
      "61/61 [==============================] - 2s 35ms/step - loss: 2.5932 - acc: 0.4331 - val_loss: 2.3502 - val_acc: 0.4730\n",
      "Epoch 4/100\n",
      "61/61 [==============================] - 2s 35ms/step - loss: 2.3324 - acc: 0.4753 - val_loss: 2.0740 - val_acc: 0.5069\n",
      "Epoch 5/100\n",
      "61/61 [==============================] - 2s 35ms/step - loss: 2.1188 - acc: 0.5226 - val_loss: 1.8237 - val_acc: 0.6080\n",
      "Epoch 6/100\n",
      "61/61 [==============================] - 2s 35ms/step - loss: 1.9524 - acc: 0.5518 - val_loss: 1.7908 - val_acc: 0.6042\n",
      "Epoch 7/100\n",
      "61/61 [==============================] - 2s 35ms/step - loss: 1.7830 - acc: 0.5817 - val_loss: 1.5372 - val_acc: 0.6497\n",
      "Epoch 8/100\n",
      "61/61 [==============================] - 2s 35ms/step - loss: 1.6495 - acc: 0.6157 - val_loss: 1.4042 - val_acc: 0.6659\n",
      "Epoch 9/100\n",
      "61/61 [==============================] - 2s 37ms/step - loss: 1.5404 - acc: 0.6324 - val_loss: 1.2608 - val_acc: 0.7029\n",
      "Epoch 10/100\n",
      "61/61 [==============================] - 2s 34ms/step - loss: 1.4526 - acc: 0.6490 - val_loss: 1.2276 - val_acc: 0.7245\n",
      "Epoch 11/100\n",
      "61/61 [==============================] - 2s 35ms/step - loss: 1.3485 - acc: 0.6781 - val_loss: 1.1225 - val_acc: 0.7261\n",
      "Epoch 12/100\n",
      "61/61 [==============================] - 2s 35ms/step - loss: 1.2872 - acc: 0.6890 - val_loss: 1.0619 - val_acc: 0.7600\n",
      "Epoch 13/100\n",
      "61/61 [==============================] - 2s 35ms/step - loss: 1.2188 - acc: 0.7074 - val_loss: 0.9949 - val_acc: 0.7623\n",
      "Epoch 14/100\n",
      "61/61 [==============================] - 2s 36ms/step - loss: 1.1529 - acc: 0.7297 - val_loss: 1.0166 - val_acc: 0.7731\n",
      "Epoch 15/100\n",
      "61/61 [==============================] - 2s 35ms/step - loss: 1.0991 - acc: 0.7350 - val_loss: 0.8973 - val_acc: 0.7731\n",
      "Epoch 16/100\n",
      "61/61 [==============================] - 2s 36ms/step - loss: 1.0446 - acc: 0.7499 - val_loss: 0.8446 - val_acc: 0.8032\n",
      "Epoch 17/100\n",
      "61/61 [==============================] - 2s 36ms/step - loss: 1.0436 - acc: 0.7465 - val_loss: 0.8384 - val_acc: 0.8063\n",
      "Epoch 18/100\n",
      "61/61 [==============================] - 2s 36ms/step - loss: 0.9890 - acc: 0.7579 - val_loss: 0.8477 - val_acc: 0.7971\n",
      "Epoch 19/100\n",
      "61/61 [==============================] - 2s 35ms/step - loss: 0.9765 - acc: 0.7590 - val_loss: 0.7408 - val_acc: 0.8241\n",
      "Epoch 20/100\n",
      "61/61 [==============================] - 2s 35ms/step - loss: 0.9048 - acc: 0.7755 - val_loss: 0.7271 - val_acc: 0.8148\n",
      "Epoch 21/100\n",
      "61/61 [==============================] - 2s 35ms/step - loss: 0.8964 - acc: 0.7860 - val_loss: 0.7011 - val_acc: 0.8210\n",
      "Epoch 22/100\n",
      "61/61 [==============================] - 2s 36ms/step - loss: 0.8536 - acc: 0.7887 - val_loss: 0.6989 - val_acc: 0.8318\n",
      "Epoch 23/100\n",
      "61/61 [==============================] - 2s 35ms/step - loss: 0.8413 - acc: 0.7880 - val_loss: 0.6463 - val_acc: 0.8395\n",
      "Epoch 24/100\n",
      "61/61 [==============================] - 2s 35ms/step - loss: 0.8402 - acc: 0.7812 - val_loss: 0.6488 - val_acc: 0.8434\n",
      "Epoch 25/100\n",
      "61/61 [==============================] - 2s 35ms/step - loss: 0.7974 - acc: 0.7963 - val_loss: 0.6269 - val_acc: 0.8326\n",
      "Epoch 26/100\n",
      "61/61 [==============================] - 2s 35ms/step - loss: 0.7799 - acc: 0.8042 - val_loss: 0.6144 - val_acc: 0.8472\n",
      "Epoch 27/100\n",
      "61/61 [==============================] - 2s 36ms/step - loss: 0.7513 - acc: 0.8071 - val_loss: 0.5789 - val_acc: 0.8596\n",
      "Epoch 28/100\n",
      "61/61 [==============================] - 2s 34ms/step - loss: 0.7553 - acc: 0.8022 - val_loss: 0.5900 - val_acc: 0.8534\n",
      "Epoch 29/100\n",
      "61/61 [==============================] - 2s 36ms/step - loss: 0.7118 - acc: 0.8191 - val_loss: 0.5935 - val_acc: 0.8688\n",
      "Epoch 30/100\n",
      "61/61 [==============================] - 2s 35ms/step - loss: 0.7014 - acc: 0.8183 - val_loss: 0.6211 - val_acc: 0.8603\n",
      "Epoch 31/100\n",
      "61/61 [==============================] - 2s 35ms/step - loss: 0.6759 - acc: 0.8227 - val_loss: 0.5654 - val_acc: 0.8642\n",
      "Epoch 32/100\n",
      "61/61 [==============================] - 2s 35ms/step - loss: 0.6629 - acc: 0.8268 - val_loss: 0.5371 - val_acc: 0.8742\n",
      "Epoch 33/100\n",
      "61/61 [==============================] - 2s 35ms/step - loss: 0.6831 - acc: 0.8223 - val_loss: 0.5792 - val_acc: 0.8565\n",
      "Epoch 34/100\n",
      "61/61 [==============================] - 2s 35ms/step - loss: 0.6609 - acc: 0.8258 - val_loss: 0.5262 - val_acc: 0.8789\n",
      "Epoch 35/100\n",
      "61/61 [==============================] - 2s 36ms/step - loss: 0.6330 - acc: 0.8291 - val_loss: 0.6282 - val_acc: 0.8542\n",
      "Epoch 36/100\n",
      "61/61 [==============================] - 2s 36ms/step - loss: 0.6418 - acc: 0.8280 - val_loss: 0.5548 - val_acc: 0.8688\n",
      "Epoch 37/100\n",
      "61/61 [==============================] - 2s 35ms/step - loss: 0.6172 - acc: 0.8339 - val_loss: 0.5125 - val_acc: 0.8696\n",
      "Epoch 38/100\n",
      "61/61 [==============================] - 2s 36ms/step - loss: 0.6192 - acc: 0.8389 - val_loss: 0.5546 - val_acc: 0.8588\n",
      "Epoch 39/100\n",
      "61/61 [==============================] - 2s 35ms/step - loss: 0.6142 - acc: 0.8406 - val_loss: 0.5078 - val_acc: 0.8827\n",
      "Epoch 40/100\n",
      "61/61 [==============================] - 2s 36ms/step - loss: 0.5927 - acc: 0.8429 - val_loss: 0.4958 - val_acc: 0.8881\n",
      "Epoch 41/100\n",
      "61/61 [==============================] - 2s 35ms/step - loss: 0.5979 - acc: 0.8392 - val_loss: 0.5129 - val_acc: 0.8681\n",
      "Epoch 42/100\n",
      "61/61 [==============================] - 2s 35ms/step - loss: 0.5936 - acc: 0.8451 - val_loss: 0.5127 - val_acc: 0.8627\n",
      "Epoch 43/100\n",
      "61/61 [==============================] - 2s 35ms/step - loss: 0.5571 - acc: 0.8482 - val_loss: 0.5102 - val_acc: 0.8765\n",
      "Epoch 44/100\n",
      "61/61 [==============================] - 2s 35ms/step - loss: 0.5585 - acc: 0.8505 - val_loss: 0.4781 - val_acc: 0.8858\n",
      "Epoch 45/100\n",
      "61/61 [==============================] - 2s 35ms/step - loss: 0.5561 - acc: 0.8521 - val_loss: 0.5223 - val_acc: 0.8789\n",
      "Epoch 46/100\n",
      "61/61 [==============================] - 2s 35ms/step - loss: 0.5759 - acc: 0.8557 - val_loss: 0.5511 - val_acc: 0.8758\n",
      "Epoch 47/100\n",
      "61/61 [==============================] - 2s 35ms/step - loss: 0.5489 - acc: 0.8515 - val_loss: 0.4437 - val_acc: 0.8881\n",
      "Epoch 48/100\n",
      "61/61 [==============================] - 2s 35ms/step - loss: 0.5310 - acc: 0.8590 - val_loss: 0.4990 - val_acc: 0.8835\n",
      "Epoch 49/100\n",
      "61/61 [==============================] - 2s 35ms/step - loss: 0.5552 - acc: 0.8469 - val_loss: 0.4499 - val_acc: 0.8897\n",
      "Epoch 50/100\n",
      "61/61 [==============================] - 2s 36ms/step - loss: 0.5431 - acc: 0.8474 - val_loss: 0.4673 - val_acc: 0.8727\n",
      "Epoch 51/100\n",
      "61/61 [==============================] - 2s 35ms/step - loss: 0.5066 - acc: 0.8632 - val_loss: 0.4861 - val_acc: 0.8796\n",
      "Epoch 52/100\n",
      "61/61 [==============================] - 2s 35ms/step - loss: 0.5330 - acc: 0.8601 - val_loss: 0.4437 - val_acc: 0.8927\n",
      "Epoch 53/100\n",
      "61/61 [==============================] - 2s 35ms/step - loss: 0.5145 - acc: 0.8626 - val_loss: 0.4886 - val_acc: 0.8850\n",
      "Epoch 54/100\n",
      "61/61 [==============================] - 2s 35ms/step - loss: 0.5021 - acc: 0.8642 - val_loss: 0.4258 - val_acc: 0.8989\n",
      "Epoch 55/100\n",
      "61/61 [==============================] - 2s 36ms/step - loss: 0.4941 - acc: 0.8659 - val_loss: 0.4470 - val_acc: 0.8889\n",
      "Epoch 56/100\n",
      "61/61 [==============================] - 2s 35ms/step - loss: 0.5213 - acc: 0.8656 - val_loss: 0.4920 - val_acc: 0.8889\n",
      "Epoch 57/100\n",
      "61/61 [==============================] - 2s 35ms/step - loss: 0.5194 - acc: 0.8625 - val_loss: 0.4406 - val_acc: 0.8951\n",
      "Epoch 58/100\n",
      "61/61 [==============================] - 2s 35ms/step - loss: 0.4980 - acc: 0.8560 - val_loss: 0.4350 - val_acc: 0.8897\n",
      "Epoch 59/100\n",
      "61/61 [==============================] - 2s 36ms/step - loss: 0.5209 - acc: 0.8589 - val_loss: 0.4869 - val_acc: 0.8873\n",
      "Epoch 60/100\n",
      "61/61 [==============================] - 2s 35ms/step - loss: 0.4830 - acc: 0.8762 - val_loss: 0.4487 - val_acc: 0.8920\n",
      "Epoch 61/100\n",
      "61/61 [==============================] - 2s 35ms/step - loss: 0.4958 - acc: 0.8658 - val_loss: 0.4640 - val_acc: 0.8835\n",
      "Epoch 62/100\n"
     ]
    },
    {
     "name": "stdout",
     "output_type": "stream",
     "text": [
      "61/61 [==============================] - 2s 38ms/step - loss: 0.5069 - acc: 0.8662 - val_loss: 0.4189 - val_acc: 0.9012\n",
      "Epoch 63/100\n",
      "61/61 [==============================] - 2s 35ms/step - loss: 0.4671 - acc: 0.8748 - val_loss: 0.4535 - val_acc: 0.8866\n",
      "Epoch 64/100\n",
      "61/61 [==============================] - 2s 35ms/step - loss: 0.4880 - acc: 0.8709 - val_loss: 0.4266 - val_acc: 0.9005\n",
      "Epoch 65/100\n",
      "61/61 [==============================] - 2s 35ms/step - loss: 0.4895 - acc: 0.8627 - val_loss: 0.4066 - val_acc: 0.8981\n",
      "Epoch 66/100\n",
      "61/61 [==============================] - 2s 36ms/step - loss: 0.4834 - acc: 0.8677 - val_loss: 0.5060 - val_acc: 0.8812\n",
      "Epoch 67/100\n",
      "61/61 [==============================] - 2s 36ms/step - loss: 0.4763 - acc: 0.8723 - val_loss: 0.4411 - val_acc: 0.8920\n",
      "Epoch 68/100\n",
      "61/61 [==============================] - 2s 35ms/step - loss: 0.4831 - acc: 0.8711 - val_loss: 0.4496 - val_acc: 0.8966\n",
      "Epoch 69/100\n",
      "61/61 [==============================] - 2s 36ms/step - loss: 0.4921 - acc: 0.8630 - val_loss: 0.4400 - val_acc: 0.8989\n",
      "Epoch 70/100\n",
      "61/61 [==============================] - 2s 35ms/step - loss: 0.4900 - acc: 0.8669 - val_loss: 0.4307 - val_acc: 0.8989\n",
      "Epoch 71/100\n",
      "61/61 [==============================] - 2s 35ms/step - loss: 0.4724 - acc: 0.8757 - val_loss: 0.4559 - val_acc: 0.8989\n",
      "Epoch 72/100\n",
      "61/61 [==============================] - 2s 35ms/step - loss: 0.4636 - acc: 0.8745 - val_loss: 0.4107 - val_acc: 0.8997\n",
      "Epoch 73/100\n",
      "61/61 [==============================] - 2s 35ms/step - loss: 0.4717 - acc: 0.8732 - val_loss: 0.4052 - val_acc: 0.9059\n",
      "Epoch 74/100\n",
      "61/61 [==============================] - 2s 35ms/step - loss: 0.4469 - acc: 0.8775 - val_loss: 0.4147 - val_acc: 0.9028\n",
      "Epoch 75/100\n",
      "61/61 [==============================] - 2s 35ms/step - loss: 0.4742 - acc: 0.8690 - val_loss: 0.4322 - val_acc: 0.8989\n",
      "Epoch 76/100\n",
      "61/61 [==============================] - 2s 35ms/step - loss: 0.4814 - acc: 0.8656 - val_loss: 0.4166 - val_acc: 0.9043\n",
      "Epoch 77/100\n",
      "61/61 [==============================] - 2s 35ms/step - loss: 0.4565 - acc: 0.8828 - val_loss: 0.4079 - val_acc: 0.9074\n",
      "Epoch 78/100\n",
      "61/61 [==============================] - 2s 36ms/step - loss: 0.4648 - acc: 0.8692 - val_loss: 0.4151 - val_acc: 0.9043\n",
      "Epoch 79/100\n",
      "61/61 [==============================] - 2s 34ms/step - loss: 0.4537 - acc: 0.8764 - val_loss: 0.4498 - val_acc: 0.8951\n",
      "Epoch 80/100\n",
      "61/61 [==============================] - 2s 35ms/step - loss: 0.4441 - acc: 0.8737 - val_loss: 0.4317 - val_acc: 0.8997\n",
      "Epoch 81/100\n",
      "61/61 [==============================] - 2s 35ms/step - loss: 0.4760 - acc: 0.8762 - val_loss: 0.4075 - val_acc: 0.8974\n",
      "Epoch 82/100\n",
      "61/61 [==============================] - 2s 36ms/step - loss: 0.4650 - acc: 0.8707 - val_loss: 0.4171 - val_acc: 0.9012\n",
      "Epoch 83/100\n",
      "61/61 [==============================] - 2s 35ms/step - loss: 0.4405 - acc: 0.8800 - val_loss: 0.6334 - val_acc: 0.8032\n",
      "Epoch 84/100\n",
      "61/61 [==============================] - 2s 34ms/step - loss: 0.4536 - acc: 0.8797 - val_loss: 0.4245 - val_acc: 0.8881\n",
      "Epoch 85/100\n",
      "61/61 [==============================] - 2s 35ms/step - loss: 0.4595 - acc: 0.8788 - val_loss: 0.4702 - val_acc: 0.8889\n",
      "Epoch 86/100\n",
      "61/61 [==============================] - 2s 35ms/step - loss: 0.4546 - acc: 0.8793 - val_loss: 0.4426 - val_acc: 0.8873\n",
      "Epoch 87/100\n",
      "61/61 [==============================] - 2s 35ms/step - loss: 0.4593 - acc: 0.8710 - val_loss: 0.4161 - val_acc: 0.9059\n",
      "Epoch 88/100\n",
      "61/61 [==============================] - 2s 35ms/step - loss: 0.4414 - acc: 0.8823 - val_loss: 0.4542 - val_acc: 0.8966\n",
      "Epoch 89/100\n",
      "61/61 [==============================] - 2s 35ms/step - loss: 0.4421 - acc: 0.8784 - val_loss: 0.4187 - val_acc: 0.9043\n",
      "Epoch 90/100\n",
      "61/61 [==============================] - 2s 36ms/step - loss: 0.4378 - acc: 0.8849 - val_loss: 0.4639 - val_acc: 0.8997\n",
      "Epoch 91/100\n",
      "61/61 [==============================] - 2s 35ms/step - loss: 0.4580 - acc: 0.8779 - val_loss: 0.4349 - val_acc: 0.9051\n",
      "Epoch 92/100\n",
      "61/61 [==============================] - 2s 35ms/step - loss: 0.4622 - acc: 0.8732 - val_loss: 0.4364 - val_acc: 0.8881\n",
      "Epoch 93/100\n",
      "61/61 [==============================] - 2s 35ms/step - loss: 0.4578 - acc: 0.8750 - val_loss: 0.4174 - val_acc: 0.9074\n",
      "Epoch 94/100\n",
      "61/61 [==============================] - 2s 35ms/step - loss: 0.4687 - acc: 0.8767 - val_loss: 0.4703 - val_acc: 0.9028\n",
      "Epoch 95/100\n",
      "61/61 [==============================] - 2s 35ms/step - loss: 0.4526 - acc: 0.8767 - val_loss: 0.4218 - val_acc: 0.9035\n",
      "Epoch 96/100\n",
      "61/61 [==============================] - 2s 37ms/step - loss: 0.4668 - acc: 0.8735 - val_loss: 0.4229 - val_acc: 0.8958\n",
      "Epoch 97/100\n",
      "61/61 [==============================] - 2s 35ms/step - loss: 0.4283 - acc: 0.8845 - val_loss: 0.5254 - val_acc: 0.8966\n",
      "Epoch 98/100\n",
      "61/61 [==============================] - 2s 37ms/step - loss: 0.4816 - acc: 0.8798 - val_loss: 0.4644 - val_acc: 0.8781\n",
      "Epoch 99/100\n",
      "61/61 [==============================] - 2s 35ms/step - loss: 0.4696 - acc: 0.8733 - val_loss: 0.4336 - val_acc: 0.8966\n",
      "Epoch 100/100\n",
      "61/61 [==============================] - 2s 35ms/step - loss: 0.4387 - acc: 0.8806 - val_loss: 0.4160 - val_acc: 0.8981\n"
     ]
    }
   ],
   "source": [
    "from keras.preprocessing.image import ImageDataGenerator\n",
    "\n",
    "model = get_model()\n",
    "model.compile(loss=\"categorical_crossentropy\", optimizer=\"rmsprop\", metrics=[\"accuracy\"])\n",
    "\n",
    "datagen = ImageDataGenerator(rotation_range=10,\n",
    "                             width_shift_range=0.1,\n",
    "                             height_shift_range=0.1,\n",
    "                             horizontal_flip=True,\n",
    "                             vertical_flip=False)\n",
    " \n",
    "batch_size = 64    \n",
    "\n",
    "H = model.fit_generator(datagen.flow(trainX, trainY, batch_size=batch_size), \n",
    "                        validation_data=(testX, testY), \n",
    "                        epochs=100, verbose=1)\n",
    " \n",
    "    \n",
    "# !!!! MODIFY THIS !!!!    \n",
    "model.save(\"classify_croped_weights_russian\")"
   ]
  },
  {
   "cell_type": "code",
   "execution_count": 37,
   "metadata": {},
   "outputs": [
    {
     "data": {
      "text/plain": [
       "Text(0.5,1,'Accuracy Curves')"
      ]
     },
     "execution_count": 37,
     "metadata": {},
     "output_type": "execute_result"
    },
    {
     "data": {
      "image/png": "[encoded data removed]",
      "text/plain": [
       "<Figure size 576x432 with 1 Axes>"
      ]
     },
     "metadata": {},
     "output_type": "display_data"
    },
    {
     "data": {
      "image/png": "[encoded data removed]",
      "text/plain": [
       "<Figure size 576x432 with 1 Axes>"
      ]
     },
     "metadata": {},
     "output_type": "display_data"
    }
   ],
   "source": [
    "import matplotlib.pyplot as plt\n",
    "%matplotlib inline\n",
    "\n",
    "# Loss Curves\n",
    "plt.figure(figsize=[8,6])\n",
    "plt.plot(H.history['loss'],'r',linewidth=3.0)\n",
    "plt.plot(H.history['val_loss'],'b',linewidth=3.0)\n",
    "plt.legend(['Training loss', 'Validation Loss'],fontsize=18)\n",
    "plt.xlabel('Epochs ',fontsize=16)\n",
    "plt.ylabel('Loss',fontsize=16)\n",
    "plt.title('Loss Curves',fontsize=16)\n",
    " \n",
    "# Accuracy Curves\n",
    "plt.figure(figsize=[8,6])\n",
    "plt.plot(H.history['acc'],'r',linewidth=3.0)\n",
    "plt.plot(H.history['val_acc'],'b',linewidth=3.0)\n",
    "plt.legend(['Training Accuracy', 'Validation Accuracy'],fontsize=18)\n",
    "plt.xlabel('Epochs ',fontsize=16)\n",
    "plt.ylabel('Accuracy',fontsize=16)\n",
    "plt.title('Accuracy Curves',fontsize=16)"
   ]
  },
  {
   "cell_type": "code",
   "execution_count": 10,
   "metadata": {},
   "outputs": [
    {
     "data": {
      "text/plain": [
       "array([[  2.55936766e-06,   5.81874701e-07,   6.15879827e-08,\n",
       "          3.46951092e-12,   2.45977139e-06,   3.74798689e-13,\n",
       "          2.34450363e-06,   4.99759551e-07,   4.31818137e-08,\n",
       "          8.88232989e-08,   9.04299304e-06,   2.15256637e-06,\n",
       "          6.92844689e-02,   8.18045855e-01,   4.02522244e-04,\n",
       "          4.30071168e-02,   6.90983236e-02,   1.39513839e-04,\n",
       "          2.38465577e-06,   1.77986993e-13]], dtype=float32)"
      ]
     },
     "execution_count": 10,
     "metadata": {},
     "output_type": "execute_result"
    }
   ],
   "source": [
    "model.predict(np.expand_dims(data[10], axis=0))"
   ]
  },
  {
   "cell_type": "code",
   "execution_count": null,
   "metadata": {},
   "outputs": [],
   "source": []
  }
 ],
 "metadata": {
  "kernelspec": {
   "display_name": "Python 3",
   "language": "python",
   "name": "python3"
  },
  "language_info": {
   "codemirror_mode": {
    "name": "ipython",
    "version": 3
   },
   "file_extension": ".py",
   "mimetype": "text/x-python",
   "name": "python",
   "nbconvert_exporter": "python",
   "pygments_lexer": "ipython3",
   "version": "3.6.3"
  }
 },
 "nbformat": 4,
 "nbformat_minor": 2
}
